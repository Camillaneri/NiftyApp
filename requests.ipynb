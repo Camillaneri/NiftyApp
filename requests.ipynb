{
 "cells": [
  {
   "cell_type": "code",
   "execution_count": 22,
   "metadata": {},
   "outputs": [
    {
     "name": "stdout",
     "output_type": "stream",
     "text": [
      "200\n",
      "{'errors': [{'extensions': {'code': 'validation-failed', 'path': '$.query'},\n",
      "             'message': 'not a valid graphql query'}]}\n"
     ]
    }
   ],
   "source": [
    "\n",
    "query = \"\"\"   {\n",
    "    artwork_facts(limit: 10){\n",
    "    \n",
    "  }\n",
    "}\n",
    "\"\"\"\n",
    "url = 'https://staging.gql.api.niftyvalue.com/v1/graphql'\n",
    "r = requests.post(url, json={'query': query})\n",
    "print(r.status_code)\n",
    "r_json = r.json()\n",
    "\n",
    "pprint.pprint(r_json)\n",
    "\n",
    "\n"
   ]
  },
  {
   "cell_type": "code",
   "execution_count": null,
   "metadata": {
    "vscode": {
     "languageId": "javascript"
    }
   },
   "outputs": [],
   "source": []
  }
 ],
 "metadata": {
  "interpreter": {
   "hash": "aee8b7b246df8f9039afb4144a1f6fd8d2ca17a180786b69acc140d282b71a49"
  },
  "kernelspec": {
   "display_name": "Python 3.9.4 64-bit",
   "language": "python",
   "name": "python3"
  },
  "language_info": {
   "codemirror_mode": {
    "name": "ipython",
    "version": 3
   },
   "file_extension": ".py",
   "mimetype": "text/x-python",
   "name": "python",
   "nbconvert_exporter": "python",
   "pygments_lexer": "ipython3",
   "version": "3.9.4"
  },
  "orig_nbformat": 4
 },
 "nbformat": 4,
 "nbformat_minor": 2
}
